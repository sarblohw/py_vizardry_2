{
 "cells": [
  {
   "cell_type": "code",
   "execution_count": 1,
   "metadata": {
    "collapsed": true
   },
   "outputs": [],
   "source": [
    "import pandas as pd\n",
    "import seaborn as sns\n",
    "\n",
    "df = sns.load_dataset('mpg')"
   ]
  },
  {
   "cell_type": "code",
   "execution_count": 2,
   "outputs": [
    {
     "data": {
      "text/plain": "    mpg  cylinders  displacement  horsepower  weight  acceleration  \\\n0  18.0          8         307.0       130.0    3504          12.0   \n1  15.0          8         350.0       165.0    3693          11.5   \n2  18.0          8         318.0       150.0    3436          11.0   \n3  16.0          8         304.0       150.0    3433          12.0   \n4  17.0          8         302.0       140.0    3449          10.5   \n\n   model_year origin                       name  \n0          70    usa  chevrolet chevelle malibu  \n1          70    usa          buick skylark 320  \n2          70    usa         plymouth satellite  \n3          70    usa              amc rebel sst  \n4          70    usa                ford torino  ",
      "text/html": "<div>\n<style scoped>\n    .dataframe tbody tr th:only-of-type {\n        vertical-align: middle;\n    }\n\n    .dataframe tbody tr th {\n        vertical-align: top;\n    }\n\n    .dataframe thead th {\n        text-align: right;\n    }\n</style>\n<table border=\"1\" class=\"dataframe\">\n  <thead>\n    <tr style=\"text-align: right;\">\n      <th></th>\n      <th>mpg</th>\n      <th>cylinders</th>\n      <th>displacement</th>\n      <th>horsepower</th>\n      <th>weight</th>\n      <th>acceleration</th>\n      <th>model_year</th>\n      <th>origin</th>\n      <th>name</th>\n    </tr>\n  </thead>\n  <tbody>\n    <tr>\n      <th>0</th>\n      <td>18.0</td>\n      <td>8</td>\n      <td>307.0</td>\n      <td>130.0</td>\n      <td>3504</td>\n      <td>12.0</td>\n      <td>70</td>\n      <td>usa</td>\n      <td>chevrolet chevelle malibu</td>\n    </tr>\n    <tr>\n      <th>1</th>\n      <td>15.0</td>\n      <td>8</td>\n      <td>350.0</td>\n      <td>165.0</td>\n      <td>3693</td>\n      <td>11.5</td>\n      <td>70</td>\n      <td>usa</td>\n      <td>buick skylark 320</td>\n    </tr>\n    <tr>\n      <th>2</th>\n      <td>18.0</td>\n      <td>8</td>\n      <td>318.0</td>\n      <td>150.0</td>\n      <td>3436</td>\n      <td>11.0</td>\n      <td>70</td>\n      <td>usa</td>\n      <td>plymouth satellite</td>\n    </tr>\n    <tr>\n      <th>3</th>\n      <td>16.0</td>\n      <td>8</td>\n      <td>304.0</td>\n      <td>150.0</td>\n      <td>3433</td>\n      <td>12.0</td>\n      <td>70</td>\n      <td>usa</td>\n      <td>amc rebel sst</td>\n    </tr>\n    <tr>\n      <th>4</th>\n      <td>17.0</td>\n      <td>8</td>\n      <td>302.0</td>\n      <td>140.0</td>\n      <td>3449</td>\n      <td>10.5</td>\n      <td>70</td>\n      <td>usa</td>\n      <td>ford torino</td>\n    </tr>\n  </tbody>\n</table>\n</div>"
     },
     "execution_count": 2,
     "metadata": {},
     "output_type": "execute_result"
    }
   ],
   "source": [
    "df.head()"
   ],
   "metadata": {
    "collapsed": false
   }
  },
  {
   "cell_type": "code",
   "execution_count": 3,
   "outputs": [],
   "source": [
    "import plotly.offline as pyo\n",
    "import plotly.graph_objs as go"
   ],
   "metadata": {
    "collapsed": false
   }
  },
  {
   "cell_type": "code",
   "execution_count": 4,
   "outputs": [
    {
     "data": {
      "text/plain": "Scatter({\n    'mode': 'markers',\n    'x': array([3504, 3693, 3436, ..., 2295, 2625, 2720]),\n    'y': array([18., 15., 18., ..., 32., 28., 31.])\n})"
     },
     "execution_count": 4,
     "metadata": {},
     "output_type": "execute_result"
    }
   ],
   "source": [
    "go.Scatter(x=df.weight, y=df.mpg, mode='markers')"
   ],
   "metadata": {
    "collapsed": false
   }
  },
  {
   "cell_type": "code",
   "execution_count": 5,
   "outputs": [
    {
     "data": {
      "text/plain": "'temp-plot.html'"
     },
     "execution_count": 5,
     "metadata": {},
     "output_type": "execute_result"
    }
   ],
   "source": [
    "data = [go.Scatter(x=df.weight, y=df.mpg, mode='markers')]\n",
    "\n",
    "pyo.plot(data)"
   ],
   "metadata": {
    "collapsed": false
   }
  },
  {
   "cell_type": "code",
   "execution_count": 7,
   "outputs": [
    {
     "data": {
      "text/plain": "'temp-plot.html'"
     },
     "execution_count": 7,
     "metadata": {},
     "output_type": "execute_result"
    }
   ],
   "source": [
    "data = [go.Scatter(\n",
    "    x=df.horsepower,\n",
    "    y=df.mpg,\n",
    "    mode='markers',\n",
    "    marker=dict(\n",
    "        size = 12,\n",
    "        color = 'rgb(23, 143, 150)',\n",
    "        symbol = 'pentagon',\n",
    "        line = dict(\n",
    "            width = 2\n",
    "        )\n",
    "    )\n",
    ")]\n",
    "\n",
    "layout = go.Layout(\n",
    "    title = 'Scatter Plot using Plotly Graph Objects',\n",
    "    xaxis = dict(\n",
    "        title = 'Horsepower'\n",
    "    ),\n",
    "    yaxis = {\n",
    "        'title': 'Miles Per Gallon'\n",
    "    },\n",
    "    hovermode = 'closest'\n",
    ")\n",
    "\n",
    "fig = go.Figure(data=data, layout=layout)\n",
    "pyo.plot(fig, filename='temp-plot.html')"
   ],
   "metadata": {
    "collapsed": false
   }
  },
  {
   "cell_type": "code",
   "execution_count": 19,
   "outputs": [
    {
     "data": {
      "text/plain": "'temp-plot.html'"
     },
     "execution_count": 19,
     "metadata": {},
     "output_type": "execute_result"
    }
   ],
   "source": [
    "trace_0 = go.Scatter(\n",
    "    x = df.horsepower,\n",
    "    y = df.mpg,\n",
    "    mode = 'markers',\n",
    "    marker = dict(\n",
    "        size = 10,\n",
    "        color = 'rgb(100, 40, 130)',\n",
    "        symbol = 'y-up-open',\n",
    "        line = dict(\n",
    "            width = 2\n",
    "        )\n",
    "    )\n",
    ")\n",
    "\n",
    "data = [trace_0]\n",
    "\n",
    "go.Layout(\n",
    "    title = 'Scatter plot using Plotly GO',\n",
    "    xaxis = dict(\n",
    "        title = 'Horsepower'\n",
    "    ),\n",
    "    yaxis = dict(\n",
    "        title = 'Miles Per Gallon'\n",
    "    ),\n",
    "    hovermode = 'closest'\n",
    ")\n",
    "\n",
    "fig = go.Figure(data = data, layout = layout)\n",
    "pyo.plot(fig, filename = 'temp-plot.html')"
   ],
   "metadata": {
    "collapsed": false
   }
  },
  {
   "cell_type": "code",
   "execution_count": 34,
   "outputs": [],
   "source": [
    "import pandas as pd\n",
    "\n",
    "nst = pd.read_csv('nst-est2017-alldata.csv')"
   ],
   "metadata": {
    "collapsed": false
   }
  },
  {
   "cell_type": "code",
   "execution_count": 35,
   "outputs": [
    {
     "data": {
      "text/plain": "   SUMLEV REGION DIVISION  STATE              NAME  CENSUS2010POP  \\\n0    10.0      0        0    0.0     United States    308745538.0   \n1    20.0      1        0    0.0  Northeast Region     55317240.0   \n2    20.0      2        0    0.0    Midwest Region     66927001.0   \n\n   ESTIMATESBASE2010  POPESTIMATE2010  POPESTIMATE2011  POPESTIMATE2012  ...  \\\n0        308758105.0      309338421.0      311644280.0      313993272.0  ...   \n1         55318350.0       55388349.0       55642659.0       55860261.0  ...   \n2         66929794.0       66973360.0       67141501.0       67318295.0  ...   \n\n   RDOMESTICMIG2015  RDOMESTICMIG2016  RDOMESTICMIG2017  RNETMIG2011  \\\n0          0.000000          0.000000           0.00000     2.720900   \n1         -6.103092         -6.619089          -5.55957     1.467950   \n2         -3.458531         -3.307295          -2.30464    -1.187519   \n\n   RNETMIG2012  RNETMIG2013  RNETMIG2014  RNETMIG2015  RNETMIG2016  \\\n0     2.920371     2.883643     3.173228     3.516743     3.513394   \n1     0.779137     0.605873    -0.082832    -0.903931    -1.307503   \n2    -1.010696    -0.120354    -0.752477    -1.323952    -1.160735   \n\n   RNETMIG2017  \n0     3.423941  \n1    -0.288930  \n2    -0.191323  \n\n[3 rows x 121 columns]",
      "text/html": "<div>\n<style scoped>\n    .dataframe tbody tr th:only-of-type {\n        vertical-align: middle;\n    }\n\n    .dataframe tbody tr th {\n        vertical-align: top;\n    }\n\n    .dataframe thead th {\n        text-align: right;\n    }\n</style>\n<table border=\"1\" class=\"dataframe\">\n  <thead>\n    <tr style=\"text-align: right;\">\n      <th></th>\n      <th>SUMLEV</th>\n      <th>REGION</th>\n      <th>DIVISION</th>\n      <th>STATE</th>\n      <th>NAME</th>\n      <th>CENSUS2010POP</th>\n      <th>ESTIMATESBASE2010</th>\n      <th>POPESTIMATE2010</th>\n      <th>POPESTIMATE2011</th>\n      <th>POPESTIMATE2012</th>\n      <th>...</th>\n      <th>RDOMESTICMIG2015</th>\n      <th>RDOMESTICMIG2016</th>\n      <th>RDOMESTICMIG2017</th>\n      <th>RNETMIG2011</th>\n      <th>RNETMIG2012</th>\n      <th>RNETMIG2013</th>\n      <th>RNETMIG2014</th>\n      <th>RNETMIG2015</th>\n      <th>RNETMIG2016</th>\n      <th>RNETMIG2017</th>\n    </tr>\n  </thead>\n  <tbody>\n    <tr>\n      <th>0</th>\n      <td>10.0</td>\n      <td>0</td>\n      <td>0</td>\n      <td>0.0</td>\n      <td>United States</td>\n      <td>308745538.0</td>\n      <td>308758105.0</td>\n      <td>309338421.0</td>\n      <td>311644280.0</td>\n      <td>313993272.0</td>\n      <td>...</td>\n      <td>0.000000</td>\n      <td>0.000000</td>\n      <td>0.00000</td>\n      <td>2.720900</td>\n      <td>2.920371</td>\n      <td>2.883643</td>\n      <td>3.173228</td>\n      <td>3.516743</td>\n      <td>3.513394</td>\n      <td>3.423941</td>\n    </tr>\n    <tr>\n      <th>1</th>\n      <td>20.0</td>\n      <td>1</td>\n      <td>0</td>\n      <td>0.0</td>\n      <td>Northeast Region</td>\n      <td>55317240.0</td>\n      <td>55318350.0</td>\n      <td>55388349.0</td>\n      <td>55642659.0</td>\n      <td>55860261.0</td>\n      <td>...</td>\n      <td>-6.103092</td>\n      <td>-6.619089</td>\n      <td>-5.55957</td>\n      <td>1.467950</td>\n      <td>0.779137</td>\n      <td>0.605873</td>\n      <td>-0.082832</td>\n      <td>-0.903931</td>\n      <td>-1.307503</td>\n      <td>-0.288930</td>\n    </tr>\n    <tr>\n      <th>2</th>\n      <td>20.0</td>\n      <td>2</td>\n      <td>0</td>\n      <td>0.0</td>\n      <td>Midwest Region</td>\n      <td>66927001.0</td>\n      <td>66929794.0</td>\n      <td>66973360.0</td>\n      <td>67141501.0</td>\n      <td>67318295.0</td>\n      <td>...</td>\n      <td>-3.458531</td>\n      <td>-3.307295</td>\n      <td>-2.30464</td>\n      <td>-1.187519</td>\n      <td>-1.010696</td>\n      <td>-0.120354</td>\n      <td>-0.752477</td>\n      <td>-1.323952</td>\n      <td>-1.160735</td>\n      <td>-0.191323</td>\n    </tr>\n  </tbody>\n</table>\n<p>3 rows × 121 columns</p>\n</div>"
     },
     "execution_count": 35,
     "metadata": {},
     "output_type": "execute_result"
    }
   ],
   "source": [
    "nst.head(3)"
   ],
   "metadata": {
    "collapsed": false
   }
  },
  {
   "cell_type": "code",
   "execution_count": 38,
   "outputs": [
    {
     "data": {
      "text/plain": "Empty DataFrame\nColumns: [SUMLEV, REGION, DIVISION, STATE, NAME, CENSUS2010POP, ESTIMATESBASE2010, POPESTIMATE2010, POPESTIMATE2011, POPESTIMATE2012, POPESTIMATE2013, POPESTIMATE2014, POPESTIMATE2015, POPESTIMATE2016, POPESTIMATE2017, NPOPCHG_2010, NPOPCHG_2011, NPOPCHG_2012, NPOPCHG_2013, NPOPCHG_2014, NPOPCHG_2015, NPOPCHG_2016, NPOPCHG_2017, BIRTHS2010, BIRTHS2011, BIRTHS2012, BIRTHS2013, BIRTHS2014, BIRTHS2015, BIRTHS2016, BIRTHS2017, DEATHS2010, DEATHS2011, DEATHS2012, DEATHS2013, DEATHS2014, DEATHS2015, DEATHS2016, DEATHS2017, NATURALINC2010, NATURALINC2011, NATURALINC2012, NATURALINC2013, NATURALINC2014, NATURALINC2015, NATURALINC2016, NATURALINC2017, INTERNATIONALMIG2010, INTERNATIONALMIG2011, INTERNATIONALMIG2012, INTERNATIONALMIG2013, INTERNATIONALMIG2014, INTERNATIONALMIG2015, INTERNATIONALMIG2016, INTERNATIONALMIG2017, DOMESTICMIG2010, DOMESTICMIG2011, DOMESTICMIG2012, DOMESTICMIG2013, DOMESTICMIG2014, DOMESTICMIG2015, DOMESTICMIG2016, DOMESTICMIG2017, NETMIG2010, NETMIG2011, NETMIG2012, NETMIG2013, NETMIG2014, NETMIG2015, NETMIG2016, NETMIG2017, RESIDUAL2010, RESIDUAL2011, RESIDUAL2012, RESIDUAL2013, RESIDUAL2014, RESIDUAL2015, RESIDUAL2016, RESIDUAL2017, RBIRTH2011, RBIRTH2012, RBIRTH2013, RBIRTH2014, RBIRTH2015, RBIRTH2016, RBIRTH2017, RDEATH2011, RDEATH2012, RDEATH2013, RDEATH2014, RDEATH2015, RDEATH2016, RDEATH2017, RNATURALINC2011, RNATURALINC2012, RNATURALINC2013, RNATURALINC2014, RNATURALINC2015, RNATURALINC2016, RNATURALINC2017, ...]\nIndex: []\n\n[0 rows x 121 columns]",
      "text/html": "<div>\n<style scoped>\n    .dataframe tbody tr th:only-of-type {\n        vertical-align: middle;\n    }\n\n    .dataframe tbody tr th {\n        vertical-align: top;\n    }\n\n    .dataframe thead th {\n        text-align: right;\n    }\n</style>\n<table border=\"1\" class=\"dataframe\">\n  <thead>\n    <tr style=\"text-align: right;\">\n      <th></th>\n      <th>SUMLEV</th>\n      <th>REGION</th>\n      <th>DIVISION</th>\n      <th>STATE</th>\n      <th>NAME</th>\n      <th>CENSUS2010POP</th>\n      <th>ESTIMATESBASE2010</th>\n      <th>POPESTIMATE2010</th>\n      <th>POPESTIMATE2011</th>\n      <th>POPESTIMATE2012</th>\n      <th>...</th>\n      <th>RDOMESTICMIG2015</th>\n      <th>RDOMESTICMIG2016</th>\n      <th>RDOMESTICMIG2017</th>\n      <th>RNETMIG2011</th>\n      <th>RNETMIG2012</th>\n      <th>RNETMIG2013</th>\n      <th>RNETMIG2014</th>\n      <th>RNETMIG2015</th>\n      <th>RNETMIG2016</th>\n      <th>RNETMIG2017</th>\n    </tr>\n  </thead>\n  <tbody>\n  </tbody>\n</table>\n<p>0 rows × 121 columns</p>\n</div>"
     },
     "execution_count": 38,
     "metadata": {},
     "output_type": "execute_result"
    }
   ],
   "source": [
    "nst.query('DIVISION == 1')"
   ],
   "metadata": {
    "collapsed": false
   }
  },
  {
   "cell_type": "code",
   "execution_count": 39,
   "outputs": [
    {
     "data": {
      "text/plain": "5    9\n8    8\n4    7\n1    6\n0    5\n9    5\n3    5\n6    4\n7    4\n2    3\nX    1\nName: DIVISION, dtype: int64"
     },
     "execution_count": 39,
     "metadata": {},
     "output_type": "execute_result"
    }
   ],
   "source": [
    "nst.DIVISION.value_counts()"
   ],
   "metadata": {
    "collapsed": false
   }
  },
  {
   "cell_type": "code",
   "execution_count": 41,
   "outputs": [
    {
     "data": {
      "text/plain": "0       0\n1       0\n2       0\n3       0\n4       0\n5       6\n6       9\n7       8\n8       7\n9       9\n10      8\n11      1\n12      5\n13      5\n14      5\n15      5\n16      9\n17      8\n18      3\n19      3\n20      4\n21      4\n22      6\n23      7\n24      1\n25      5\n26      1\n27      3\n28      4\n29      6\n30      4\n31      8\n32      4\n33      8\n34      1\n35      2\n36      8\n37      2\n38      5\n39      4\n40      3\n41      7\n42      9\n43      2\n44      1\n45      5\n46      4\n47      6\n48      7\n49      8\n50      1\n51      5\n52      9\n53      5\n54      3\n55      8\n56      X\n57    NaN\n58    NaN\nName: DIVISION, dtype: object"
     },
     "execution_count": 41,
     "metadata": {},
     "output_type": "execute_result"
    }
   ],
   "source": [
    "nst.DIVISION"
   ],
   "metadata": {
    "collapsed": false
   }
  },
  {
   "cell_type": "code",
   "execution_count": null,
   "outputs": [],
   "source": [],
   "metadata": {
    "collapsed": false
   }
  }
 ],
 "metadata": {
  "kernelspec": {
   "display_name": "Python 3",
   "language": "python",
   "name": "python3"
  },
  "language_info": {
   "codemirror_mode": {
    "name": "ipython",
    "version": 2
   },
   "file_extension": ".py",
   "mimetype": "text/x-python",
   "name": "python",
   "nbconvert_exporter": "python",
   "pygments_lexer": "ipython2",
   "version": "2.7.6"
  }
 },
 "nbformat": 4,
 "nbformat_minor": 0
}
