{
 "cells": [
  {
   "cell_type": "code",
   "execution_count": 1,
   "metadata": {
    "collapsed": true
   },
   "outputs": [],
   "source": [
    "import pandas as pd\n",
    "import plotly.offline as pyo\n",
    "import plotly.graph_objects as go"
   ]
  },
  {
   "cell_type": "code",
   "execution_count": 2,
   "outputs": [],
   "source": [
    "df = pd.read_csv('2010YumaAZ.csv')"
   ],
   "metadata": {
    "collapsed": false
   }
  },
  {
   "cell_type": "code",
   "execution_count": 3,
   "outputs": [
    {
     "data": {
      "text/plain": "   LST_DATE      DAY  LST_TIME  T_HR_AVG\n0  20100601  TUESDAY  00:00:00      25.2\n1  20100601  TUESDAY  01:00:00      24.1\n2  20100601  TUESDAY  02:00:00      24.4",
      "text/html": "<div>\n<style scoped>\n    .dataframe tbody tr th:only-of-type {\n        vertical-align: middle;\n    }\n\n    .dataframe tbody tr th {\n        vertical-align: top;\n    }\n\n    .dataframe thead th {\n        text-align: right;\n    }\n</style>\n<table border=\"1\" class=\"dataframe\">\n  <thead>\n    <tr style=\"text-align: right;\">\n      <th></th>\n      <th>LST_DATE</th>\n      <th>DAY</th>\n      <th>LST_TIME</th>\n      <th>T_HR_AVG</th>\n    </tr>\n  </thead>\n  <tbody>\n    <tr>\n      <th>0</th>\n      <td>20100601</td>\n      <td>TUESDAY</td>\n      <td>00:00:00</td>\n      <td>25.2</td>\n    </tr>\n    <tr>\n      <th>1</th>\n      <td>20100601</td>\n      <td>TUESDAY</td>\n      <td>01:00:00</td>\n      <td>24.1</td>\n    </tr>\n    <tr>\n      <th>2</th>\n      <td>20100601</td>\n      <td>TUESDAY</td>\n      <td>02:00:00</td>\n      <td>24.4</td>\n    </tr>\n  </tbody>\n</table>\n</div>"
     },
     "execution_count": 3,
     "metadata": {},
     "output_type": "execute_result"
    }
   ],
   "source": [
    "df.head(3)"
   ],
   "metadata": {
    "collapsed": false
   }
  },
  {
   "cell_type": "code",
   "execution_count": 18,
   "outputs": [
    {
     "data": {
      "text/plain": "'temp-plot.html'"
     },
     "execution_count": 18,
     "metadata": {},
     "output_type": "execute_result"
    }
   ],
   "source": [
    "days = ['TUESDAY', 'WEDNESDAY', 'THURSDAY', 'FRIDAY', 'SATURDAY', 'SUNDAY', 'MONDAY']\n",
    "\n",
    "data = []\n",
    "\n",
    "for day in days:\n",
    "    trace = go.Scatter(\n",
    "        x = df.loc[df.DAY == day, 'LST_TIME'],\n",
    "        y = df.loc[df.DAY == day, 'T_HR_AVG'],\n",
    "        mode = 'lines',\n",
    "        name = day\n",
    "    )\n",
    "\n",
    "    data.append(trace)\n",
    "\n",
    "layout = go.Layout(\n",
    "    title = 'Daily Avg Temp: June 1 to 7, 2K10 - Yuma, AZ'\n",
    ")\n",
    "\n",
    "fig = go.Figure(data=data, layout=layout)\n",
    "pyo.plot(fig, filename='temp-plot.html')"
   ],
   "metadata": {
    "collapsed": false
   }
  },
  {
   "cell_type": "code",
   "execution_count": 20,
   "outputs": [
    {
     "data": {
      "text/plain": "'temp-plot.html'"
     },
     "execution_count": 20,
     "metadata": {},
     "output_type": "execute_result"
    }
   ],
   "source": [
    "data = [\n",
    "    go.Scatter(\n",
    "        x = df.loc[df.DAY == day, 'LST_TIME'],\n",
    "        y = df.loc[df.DAY == day, 'T_HR_AVG'],\n",
    "        mode = 'lines',\n",
    "        name = day\n",
    "    ) for day in df.DAY.unique()\n",
    "]\n",
    "\n",
    "layout = go.Layout(\n",
    "    title = 'Daily Avg Temp: June 1 to 7, 2K10 - Yuma, AZ'\n",
    ")\n",
    "\n",
    "fig = go.Figure(data=data, layout=layout)\n",
    "pyo.plot(fig, filename='temp-plot.html')"
   ],
   "metadata": {
    "collapsed": false
   }
  },
  {
   "cell_type": "code",
   "execution_count": 21,
   "outputs": [
    {
     "data": {
      "text/plain": "'temp-plot.html'"
     },
     "execution_count": 21,
     "metadata": {},
     "output_type": "execute_result"
    }
   ],
   "source": [
    "data = [\n",
    "    dict(\n",
    "        x = df.loc[df.DAY == day, 'LST_TIME'],\n",
    "        y = df.loc[df.DAY == day, 'T_HR_AVG'],\n",
    "        mode = 'lines',\n",
    "        name = day\n",
    "    ) for day in df.DAY.unique()\n",
    "]\n",
    "\n",
    "layout = go.Layout(\n",
    "    title = 'Daily Avg Temp: June 1 to 7, 2K10 - Yuma, AZ'\n",
    ")\n",
    "\n",
    "fig = go.Figure(data=data, layout=layout)\n",
    "pyo.plot(fig, filename='temp-plot.html')"
   ],
   "metadata": {
    "collapsed": false
   }
  },
  {
   "cell_type": "code",
   "execution_count": null,
   "outputs": [],
   "source": [],
   "metadata": {
    "collapsed": false
   }
  }
 ],
 "metadata": {
  "kernelspec": {
   "display_name": "Python 3",
   "language": "python",
   "name": "python3"
  },
  "language_info": {
   "codemirror_mode": {
    "name": "ipython",
    "version": 2
   },
   "file_extension": ".py",
   "mimetype": "text/x-python",
   "name": "python",
   "nbconvert_exporter": "python",
   "pygments_lexer": "ipython2",
   "version": "2.7.6"
  }
 },
 "nbformat": 4,
 "nbformat_minor": 0
}
