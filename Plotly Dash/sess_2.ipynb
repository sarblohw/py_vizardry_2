{
 "cells": [
  {
   "cell_type": "code",
   "execution_count": 72,
   "metadata": {
    "collapsed": true
   },
   "outputs": [],
   "source": [
    "import numpy as np\n",
    "import pandas as pd\n",
    "\n",
    "import seaborn as sns\n",
    "\n",
    "import plotly.graph_objects as go\n",
    "import plotly.offline as pyo"
   ]
  },
  {
   "cell_type": "code",
   "execution_count": 73,
   "outputs": [],
   "source": [
    "cars = sns.load_dataset('mpg')"
   ],
   "metadata": {
    "collapsed": false
   }
  },
  {
   "cell_type": "code",
   "execution_count": 74,
   "outputs": [
    {
     "data": {
      "text/plain": "    mpg  cylinders  displacement  horsepower  weight  acceleration  \\\n0  18.0          8         307.0       130.0    3504          12.0   \n1  15.0          8         350.0       165.0    3693          11.5   \n2  18.0          8         318.0       150.0    3436          11.0   \n3  16.0          8         304.0       150.0    3433          12.0   \n4  17.0          8         302.0       140.0    3449          10.5   \n\n   model_year origin                       name  \n0          70    usa  chevrolet chevelle malibu  \n1          70    usa          buick skylark 320  \n2          70    usa         plymouth satellite  \n3          70    usa              amc rebel sst  \n4          70    usa                ford torino  ",
      "text/html": "<div>\n<style scoped>\n    .dataframe tbody tr th:only-of-type {\n        vertical-align: middle;\n    }\n\n    .dataframe tbody tr th {\n        vertical-align: top;\n    }\n\n    .dataframe thead th {\n        text-align: right;\n    }\n</style>\n<table border=\"1\" class=\"dataframe\">\n  <thead>\n    <tr style=\"text-align: right;\">\n      <th></th>\n      <th>mpg</th>\n      <th>cylinders</th>\n      <th>displacement</th>\n      <th>horsepower</th>\n      <th>weight</th>\n      <th>acceleration</th>\n      <th>model_year</th>\n      <th>origin</th>\n      <th>name</th>\n    </tr>\n  </thead>\n  <tbody>\n    <tr>\n      <th>0</th>\n      <td>18.0</td>\n      <td>8</td>\n      <td>307.0</td>\n      <td>130.0</td>\n      <td>3504</td>\n      <td>12.0</td>\n      <td>70</td>\n      <td>usa</td>\n      <td>chevrolet chevelle malibu</td>\n    </tr>\n    <tr>\n      <th>1</th>\n      <td>15.0</td>\n      <td>8</td>\n      <td>350.0</td>\n      <td>165.0</td>\n      <td>3693</td>\n      <td>11.5</td>\n      <td>70</td>\n      <td>usa</td>\n      <td>buick skylark 320</td>\n    </tr>\n    <tr>\n      <th>2</th>\n      <td>18.0</td>\n      <td>8</td>\n      <td>318.0</td>\n      <td>150.0</td>\n      <td>3436</td>\n      <td>11.0</td>\n      <td>70</td>\n      <td>usa</td>\n      <td>plymouth satellite</td>\n    </tr>\n    <tr>\n      <th>3</th>\n      <td>16.0</td>\n      <td>8</td>\n      <td>304.0</td>\n      <td>150.0</td>\n      <td>3433</td>\n      <td>12.0</td>\n      <td>70</td>\n      <td>usa</td>\n      <td>amc rebel sst</td>\n    </tr>\n    <tr>\n      <th>4</th>\n      <td>17.0</td>\n      <td>8</td>\n      <td>302.0</td>\n      <td>140.0</td>\n      <td>3449</td>\n      <td>10.5</td>\n      <td>70</td>\n      <td>usa</td>\n      <td>ford torino</td>\n    </tr>\n  </tbody>\n</table>\n</div>"
     },
     "execution_count": 74,
     "metadata": {},
     "output_type": "execute_result"
    }
   ],
   "source": [
    "cars.head()"
   ],
   "metadata": {
    "collapsed": false
   }
  },
  {
   "cell_type": "code",
   "execution_count": 78,
   "outputs": [
    {
     "data": {
      "text/plain": "'temp-plot.html'"
     },
     "execution_count": 78,
     "metadata": {},
     "output_type": "execute_result"
    }
   ],
   "source": [
    "trace = go.Scatter(\n",
    "    x = cars.horsepower,\n",
    "    y = cars.mpg,\n",
    "    mode = 'markers'\n",
    ")\n",
    "\n",
    "layout = go.Layout(\n",
    "    title = 'Scatter Plot'\n",
    ")\n",
    "\n",
    "data = [trace]\n",
    "fig = go.Figure(data = data, layout = layout)\n",
    "pyo.plot(fig, filename='temp-plot.html')"
   ],
   "metadata": {
    "collapsed": false
   }
  },
  {
   "cell_type": "code",
   "execution_count": 82,
   "outputs": [
    {
     "data": {
      "text/plain": "'temp-plot.html'"
     },
     "execution_count": 82,
     "metadata": {},
     "output_type": "execute_result"
    }
   ],
   "source": [
    "trace = go.Scatter(\n",
    "    x = cars.weight,\n",
    "    y = cars.mpg,\n",
    "    mode = 'markers',\n",
    "    marker = dict(\n",
    "        size = 12,\n",
    "        symbol = 'diamond',\n",
    "        line = dict(\n",
    "            width = 2,\n",
    "            color = 'lemonchiffon',\n",
    "        )\n",
    "    )\n",
    ")\n",
    "\n",
    "layout = go.Layout(\n",
    "    title = 'Scatter',\n",
    "    xaxis = dict(\n",
    "        title = 'Weight'\n",
    "    ),\n",
    "    yaxis =  dict(\n",
    "        title = 'Miles per Gallon'\n",
    "    ),\n",
    "    hovermode = 'closest'\n",
    ")\n",
    "\n",
    "data = [trace]\n",
    "fig = go.Figure(data = data, layout = layout)\n",
    "pyo.plot(fig)"
   ],
   "metadata": {
    "collapsed": false
   }
  },
  {
   "cell_type": "code",
   "execution_count": 83,
   "outputs": [],
   "source": [
    "np.random.seed(56)\n",
    "\n",
    "x_values = np.linspace(0,1,100)\n",
    "y_values = np.random.randn(100)"
   ],
   "metadata": {
    "collapsed": false
   }
  },
  {
   "cell_type": "code",
   "execution_count": 86,
   "outputs": [
    {
     "data": {
      "text/plain": "'temp-plot.html'"
     },
     "execution_count": 86,
     "metadata": {},
     "output_type": "execute_result"
    }
   ],
   "source": [
    "trace = go.Scatter(\n",
    "    x = x_values,\n",
    "    y = y_values,\n",
    "    mode = 'markers',\n",
    "    marker = {\n",
    "        'size': 15,\n",
    "        'color': '#1f77b4',\n",
    "        'symbol': 'pentagon'\n",
    "    }\n",
    ")\n",
    "\n",
    "layout = go.Layout(\n",
    "    title = 'Multiple Traces in the Plot',\n",
    "    xaxis = {\n",
    "        'title': 'X Axis'\n",
    "    },\n",
    "    yaxis = {\n",
    "        'title': 'Y Axis'\n",
    "    }\n",
    ")\n",
    "\n",
    "data = [trace]\n",
    "fig = go.Figure(data = data, layout = layout)\n",
    "pyo.plot(fig, filename = 'temp-plot.html')"
   ],
   "metadata": {
    "collapsed": false
   }
  },
  {
   "cell_type": "code",
   "execution_count": 89,
   "outputs": [
    {
     "data": {
      "text/plain": "'temp-plot.html'"
     },
     "execution_count": 89,
     "metadata": {},
     "output_type": "execute_result"
    }
   ],
   "source": [
    "trace_0 = go.Scatter(\n",
    "    x=x_values,\n",
    "    y=y_values+5,\n",
    "    mode='markers',\n",
    "    name='Markers',\n",
    "    marker={\n",
    "        'size': 5,\n",
    "        'color': 'rgb(31, 119, 180)',\n",
    "        'symbol': 'pentagon',\n",
    "        'line': {\n",
    "            'width': 2,\n",
    "            'color': 'gray'\n",
    "        }\n",
    "    }\n",
    ")\n",
    "\n",
    "trace_1 = go.Scatter(\n",
    "    x=x_values,\n",
    "    y=y_values,\n",
    "    mode='lines',\n",
    "    name='Lines'\n",
    ")\n",
    "\n",
    "trace_2 = go.Scatter(\n",
    "    x=x_values,\n",
    "    y=y_values-5,\n",
    "    mode='markers+lines'\n",
    ")\n",
    "\n",
    "layout = go.Layout(\n",
    "    title = 'Multiple Traces in the Plot',\n",
    "    xaxis = {\n",
    "        'title': 'X Axis'\n",
    "    },\n",
    "    yaxis = {\n",
    "        'title': 'Y Axis'\n",
    "    }\n",
    ")\n",
    "\n",
    "data = [trace_0, trace_1, trace_2]\n",
    "fig = go.Figure(data=data, layout=layout)\n",
    "pyo.plot(fig, filename='temp-plot.html')"
   ],
   "metadata": {
    "collapsed": false
   }
  },
  {
   "cell_type": "code",
   "execution_count": 113,
   "outputs": [],
   "source": [
    "nst = pd.read_csv('nst-est2017-alldata.csv')"
   ],
   "metadata": {
    "collapsed": false
   }
  },
  {
   "cell_type": "code",
   "execution_count": 114,
   "outputs": [
    {
     "data": {
      "text/plain": "   SUMLEV REGION DIVISION  STATE              NAME  CENSUS2010POP  \\\n0    10.0      0        0    0.0     United States    308745538.0   \n1    20.0      1        0    0.0  Northeast Region     55317240.0   \n2    20.0      2        0    0.0    Midwest Region     66927001.0   \n\n   ESTIMATESBASE2010  POPESTIMATE2010  POPESTIMATE2011  POPESTIMATE2012  ...  \\\n0        308758105.0      309338421.0      311644280.0      313993272.0  ...   \n1         55318350.0       55388349.0       55642659.0       55860261.0  ...   \n2         66929794.0       66973360.0       67141501.0       67318295.0  ...   \n\n   RDOMESTICMIG2015  RDOMESTICMIG2016  RDOMESTICMIG2017  RNETMIG2011  \\\n0          0.000000          0.000000           0.00000     2.720900   \n1         -6.103092         -6.619089          -5.55957     1.467950   \n2         -3.458531         -3.307295          -2.30464    -1.187519   \n\n   RNETMIG2012  RNETMIG2013  RNETMIG2014  RNETMIG2015  RNETMIG2016  \\\n0     2.920371     2.883643     3.173228     3.516743     3.513394   \n1     0.779137     0.605873    -0.082832    -0.903931    -1.307503   \n2    -1.010696    -0.120354    -0.752477    -1.323952    -1.160735   \n\n   RNETMIG2017  \n0     3.423941  \n1    -0.288930  \n2    -0.191323  \n\n[3 rows x 121 columns]",
      "text/html": "<div>\n<style scoped>\n    .dataframe tbody tr th:only-of-type {\n        vertical-align: middle;\n    }\n\n    .dataframe tbody tr th {\n        vertical-align: top;\n    }\n\n    .dataframe thead th {\n        text-align: right;\n    }\n</style>\n<table border=\"1\" class=\"dataframe\">\n  <thead>\n    <tr style=\"text-align: right;\">\n      <th></th>\n      <th>SUMLEV</th>\n      <th>REGION</th>\n      <th>DIVISION</th>\n      <th>STATE</th>\n      <th>NAME</th>\n      <th>CENSUS2010POP</th>\n      <th>ESTIMATESBASE2010</th>\n      <th>POPESTIMATE2010</th>\n      <th>POPESTIMATE2011</th>\n      <th>POPESTIMATE2012</th>\n      <th>...</th>\n      <th>RDOMESTICMIG2015</th>\n      <th>RDOMESTICMIG2016</th>\n      <th>RDOMESTICMIG2017</th>\n      <th>RNETMIG2011</th>\n      <th>RNETMIG2012</th>\n      <th>RNETMIG2013</th>\n      <th>RNETMIG2014</th>\n      <th>RNETMIG2015</th>\n      <th>RNETMIG2016</th>\n      <th>RNETMIG2017</th>\n    </tr>\n  </thead>\n  <tbody>\n    <tr>\n      <th>0</th>\n      <td>10.0</td>\n      <td>0</td>\n      <td>0</td>\n      <td>0.0</td>\n      <td>United States</td>\n      <td>308745538.0</td>\n      <td>308758105.0</td>\n      <td>309338421.0</td>\n      <td>311644280.0</td>\n      <td>313993272.0</td>\n      <td>...</td>\n      <td>0.000000</td>\n      <td>0.000000</td>\n      <td>0.00000</td>\n      <td>2.720900</td>\n      <td>2.920371</td>\n      <td>2.883643</td>\n      <td>3.173228</td>\n      <td>3.516743</td>\n      <td>3.513394</td>\n      <td>3.423941</td>\n    </tr>\n    <tr>\n      <th>1</th>\n      <td>20.0</td>\n      <td>1</td>\n      <td>0</td>\n      <td>0.0</td>\n      <td>Northeast Region</td>\n      <td>55317240.0</td>\n      <td>55318350.0</td>\n      <td>55388349.0</td>\n      <td>55642659.0</td>\n      <td>55860261.0</td>\n      <td>...</td>\n      <td>-6.103092</td>\n      <td>-6.619089</td>\n      <td>-5.55957</td>\n      <td>1.467950</td>\n      <td>0.779137</td>\n      <td>0.605873</td>\n      <td>-0.082832</td>\n      <td>-0.903931</td>\n      <td>-1.307503</td>\n      <td>-0.288930</td>\n    </tr>\n    <tr>\n      <th>2</th>\n      <td>20.0</td>\n      <td>2</td>\n      <td>0</td>\n      <td>0.0</td>\n      <td>Midwest Region</td>\n      <td>66927001.0</td>\n      <td>66929794.0</td>\n      <td>66973360.0</td>\n      <td>67141501.0</td>\n      <td>67318295.0</td>\n      <td>...</td>\n      <td>-3.458531</td>\n      <td>-3.307295</td>\n      <td>-2.30464</td>\n      <td>-1.187519</td>\n      <td>-1.010696</td>\n      <td>-0.120354</td>\n      <td>-0.752477</td>\n      <td>-1.323952</td>\n      <td>-1.160735</td>\n      <td>-0.191323</td>\n    </tr>\n  </tbody>\n</table>\n<p>3 rows × 121 columns</p>\n</div>"
     },
     "execution_count": 114,
     "metadata": {},
     "output_type": "execute_result"
    }
   ],
   "source": [
    "nst.head(3)"
   ],
   "metadata": {
    "collapsed": false
   }
  },
  {
   "cell_type": "code",
   "execution_count": 115,
   "outputs": [
    {
     "data": {
      "text/plain": "(59, 121)"
     },
     "execution_count": 115,
     "metadata": {},
     "output_type": "execute_result"
    }
   ],
   "source": [
    "nst.shape"
   ],
   "metadata": {
    "collapsed": false
   }
  },
  {
   "cell_type": "code",
   "execution_count": 116,
   "outputs": [
    {
     "data": {
      "text/plain": "SUMLEV         float64\nREGION          object\nDIVISION        object\nSTATE          float64\nNAME            object\n                ...   \nRNETMIG2013    float64\nRNETMIG2014    float64\nRNETMIG2015    float64\nRNETMIG2016    float64\nRNETMIG2017    float64\nLength: 121, dtype: object"
     },
     "execution_count": 116,
     "metadata": {},
     "output_type": "execute_result"
    }
   ],
   "source": [
    "nst.dtypes"
   ],
   "metadata": {
    "collapsed": false
   }
  },
  {
   "cell_type": "code",
   "execution_count": 117,
   "outputs": [],
   "source": [
    "nst.set_index('NAME', inplace = True)\n",
    "nst = nst.loc[nst.DIVISION == '1', nst.columns.str.startswith('POP')]"
   ],
   "metadata": {
    "collapsed": false
   }
  },
  {
   "cell_type": "code",
   "execution_count": 118,
   "outputs": [
    {
     "data": {
      "text/plain": "               POPESTIMATE2010  POPESTIMATE2011  POPESTIMATE2012  \\\nNAME                                                               \nConnecticut          3580171.0        3591927.0        3597705.0   \nMaine                1327568.0        1327968.0        1328101.0   \nMassachusetts        6564943.0        6612178.0        6659627.0   \nNew Hampshire        1316700.0        1318345.0        1320923.0   \nRhode Island         1053169.0        1052154.0        1052761.0   \nVermont               625842.0         626210.0         625606.0   \n\n               POPESTIMATE2013  POPESTIMATE2014  POPESTIMATE2015  \\\nNAME                                                               \nConnecticut          3602470.0        3600188.0        3593862.0   \nMaine                1327975.0        1328903.0        1327787.0   \nMassachusetts        6711138.0        6757925.0        6794002.0   \nNew Hampshire        1322622.0        1328684.0        1330134.0   \nRhode Island         1052784.0        1054782.0        1055916.0   \nVermont               626044.0         625665.0         624455.0   \n\n               POPESTIMATE2016  POPESTIMATE2017  \nNAME                                             \nConnecticut          3587685.0        3588184.0  \nMaine                1330232.0        1335907.0  \nMassachusetts        6823721.0        6859819.0  \nNew Hampshire        1335015.0        1342795.0  \nRhode Island         1057566.0        1059639.0  \nVermont               623354.0         623657.0  ",
      "text/html": "<div>\n<style scoped>\n    .dataframe tbody tr th:only-of-type {\n        vertical-align: middle;\n    }\n\n    .dataframe tbody tr th {\n        vertical-align: top;\n    }\n\n    .dataframe thead th {\n        text-align: right;\n    }\n</style>\n<table border=\"1\" class=\"dataframe\">\n  <thead>\n    <tr style=\"text-align: right;\">\n      <th></th>\n      <th>POPESTIMATE2010</th>\n      <th>POPESTIMATE2011</th>\n      <th>POPESTIMATE2012</th>\n      <th>POPESTIMATE2013</th>\n      <th>POPESTIMATE2014</th>\n      <th>POPESTIMATE2015</th>\n      <th>POPESTIMATE2016</th>\n      <th>POPESTIMATE2017</th>\n    </tr>\n    <tr>\n      <th>NAME</th>\n      <th></th>\n      <th></th>\n      <th></th>\n      <th></th>\n      <th></th>\n      <th></th>\n      <th></th>\n      <th></th>\n    </tr>\n  </thead>\n  <tbody>\n    <tr>\n      <th>Connecticut</th>\n      <td>3580171.0</td>\n      <td>3591927.0</td>\n      <td>3597705.0</td>\n      <td>3602470.0</td>\n      <td>3600188.0</td>\n      <td>3593862.0</td>\n      <td>3587685.0</td>\n      <td>3588184.0</td>\n    </tr>\n    <tr>\n      <th>Maine</th>\n      <td>1327568.0</td>\n      <td>1327968.0</td>\n      <td>1328101.0</td>\n      <td>1327975.0</td>\n      <td>1328903.0</td>\n      <td>1327787.0</td>\n      <td>1330232.0</td>\n      <td>1335907.0</td>\n    </tr>\n    <tr>\n      <th>Massachusetts</th>\n      <td>6564943.0</td>\n      <td>6612178.0</td>\n      <td>6659627.0</td>\n      <td>6711138.0</td>\n      <td>6757925.0</td>\n      <td>6794002.0</td>\n      <td>6823721.0</td>\n      <td>6859819.0</td>\n    </tr>\n    <tr>\n      <th>New Hampshire</th>\n      <td>1316700.0</td>\n      <td>1318345.0</td>\n      <td>1320923.0</td>\n      <td>1322622.0</td>\n      <td>1328684.0</td>\n      <td>1330134.0</td>\n      <td>1335015.0</td>\n      <td>1342795.0</td>\n    </tr>\n    <tr>\n      <th>Rhode Island</th>\n      <td>1053169.0</td>\n      <td>1052154.0</td>\n      <td>1052761.0</td>\n      <td>1052784.0</td>\n      <td>1054782.0</td>\n      <td>1055916.0</td>\n      <td>1057566.0</td>\n      <td>1059639.0</td>\n    </tr>\n    <tr>\n      <th>Vermont</th>\n      <td>625842.0</td>\n      <td>626210.0</td>\n      <td>625606.0</td>\n      <td>626044.0</td>\n      <td>625665.0</td>\n      <td>624455.0</td>\n      <td>623354.0</td>\n      <td>623657.0</td>\n    </tr>\n  </tbody>\n</table>\n</div>"
     },
     "execution_count": 118,
     "metadata": {},
     "output_type": "execute_result"
    }
   ],
   "source": [
    "nst"
   ],
   "metadata": {
    "collapsed": false
   }
  },
  {
   "cell_type": "code",
   "execution_count": 121,
   "outputs": [
    {
     "data": {
      "text/plain": "['Connecticut',\n 'Maine',\n 'Massachusetts',\n 'New Hampshire',\n 'Rhode Island',\n 'Vermont']"
     },
     "execution_count": 121,
     "metadata": {},
     "output_type": "execute_result"
    }
   ],
   "source": [
    "[name for name in nst.index]"
   ],
   "metadata": {
    "collapsed": false
   }
  },
  {
   "cell_type": "code",
   "execution_count": 123,
   "outputs": [
    {
     "data": {
      "text/plain": "'temp-plot.html'"
     },
     "execution_count": 123,
     "metadata": {},
     "output_type": "execute_result"
    }
   ],
   "source": [
    "data = [\n",
    "    go.Scatter(\n",
    "        x = nst.columns,\n",
    "        y = nst.loc[name],\n",
    "        mode = 'markers+lines',\n",
    "        name = name,\n",
    "        marker = dict(\n",
    "            size = 5,\n",
    "            symbol = 'y-up-open'\n",
    "        )\n",
    "    ) for name in nst.index\n",
    "]\n",
    "\n",
    "layout = go.Layout(\n",
    "    title = 'Comprehension to multiple traces',\n",
    "    xaxis = dict(\n",
    "        title = 'Year'\n",
    "    ),\n",
    "    yaxis = dict(\n",
    "        title = 'Population'\n",
    "    )\n",
    ")\n",
    "\n",
    "fig = go.Figure(data = data, layout = layout)\n",
    "pyo.plot(fig)"
   ],
   "metadata": {
    "collapsed": false
   }
  },
  {
   "cell_type": "code",
   "execution_count": 124,
   "outputs": [
    {
     "data": {
      "text/plain": "     LST_DATE      DAY  LST_TIME  T_HR_AVG\n0    20100601  TUESDAY  00:00:00      25.2\n1    20100601  TUESDAY  01:00:00      24.1\n2    20100601  TUESDAY  02:00:00      24.4\n3    20100601  TUESDAY  03:00:00      24.9\n4    20100601  TUESDAY  04:00:00      22.8\n..        ...      ...       ...       ...\n163  20100607   MONDAY  19:00:00      39.4\n164  20100607   MONDAY  20:00:00      38.5\n165  20100607   MONDAY  21:00:00      37.0\n166  20100607   MONDAY  22:00:00      34.7\n167  20100607   MONDAY  23:00:00      32.6\n\n[168 rows x 4 columns]",
      "text/html": "<div>\n<style scoped>\n    .dataframe tbody tr th:only-of-type {\n        vertical-align: middle;\n    }\n\n    .dataframe tbody tr th {\n        vertical-align: top;\n    }\n\n    .dataframe thead th {\n        text-align: right;\n    }\n</style>\n<table border=\"1\" class=\"dataframe\">\n  <thead>\n    <tr style=\"text-align: right;\">\n      <th></th>\n      <th>LST_DATE</th>\n      <th>DAY</th>\n      <th>LST_TIME</th>\n      <th>T_HR_AVG</th>\n    </tr>\n  </thead>\n  <tbody>\n    <tr>\n      <th>0</th>\n      <td>20100601</td>\n      <td>TUESDAY</td>\n      <td>00:00:00</td>\n      <td>25.2</td>\n    </tr>\n    <tr>\n      <th>1</th>\n      <td>20100601</td>\n      <td>TUESDAY</td>\n      <td>01:00:00</td>\n      <td>24.1</td>\n    </tr>\n    <tr>\n      <th>2</th>\n      <td>20100601</td>\n      <td>TUESDAY</td>\n      <td>02:00:00</td>\n      <td>24.4</td>\n    </tr>\n    <tr>\n      <th>3</th>\n      <td>20100601</td>\n      <td>TUESDAY</td>\n      <td>03:00:00</td>\n      <td>24.9</td>\n    </tr>\n    <tr>\n      <th>4</th>\n      <td>20100601</td>\n      <td>TUESDAY</td>\n      <td>04:00:00</td>\n      <td>22.8</td>\n    </tr>\n    <tr>\n      <th>...</th>\n      <td>...</td>\n      <td>...</td>\n      <td>...</td>\n      <td>...</td>\n    </tr>\n    <tr>\n      <th>163</th>\n      <td>20100607</td>\n      <td>MONDAY</td>\n      <td>19:00:00</td>\n      <td>39.4</td>\n    </tr>\n    <tr>\n      <th>164</th>\n      <td>20100607</td>\n      <td>MONDAY</td>\n      <td>20:00:00</td>\n      <td>38.5</td>\n    </tr>\n    <tr>\n      <th>165</th>\n      <td>20100607</td>\n      <td>MONDAY</td>\n      <td>21:00:00</td>\n      <td>37.0</td>\n    </tr>\n    <tr>\n      <th>166</th>\n      <td>20100607</td>\n      <td>MONDAY</td>\n      <td>22:00:00</td>\n      <td>34.7</td>\n    </tr>\n    <tr>\n      <th>167</th>\n      <td>20100607</td>\n      <td>MONDAY</td>\n      <td>23:00:00</td>\n      <td>32.6</td>\n    </tr>\n  </tbody>\n</table>\n<p>168 rows × 4 columns</p>\n</div>"
     },
     "execution_count": 124,
     "metadata": {},
     "output_type": "execute_result"
    }
   ],
   "source": [],
   "metadata": {
    "collapsed": false
   }
  },
  {
   "cell_type": "code",
   "execution_count": null,
   "outputs": [],
   "source": [],
   "metadata": {
    "collapsed": false
   }
  }
 ],
 "metadata": {
  "kernelspec": {
   "display_name": "Python 3",
   "language": "python",
   "name": "python3"
  },
  "language_info": {
   "codemirror_mode": {
    "name": "ipython",
    "version": 2
   },
   "file_extension": ".py",
   "mimetype": "text/x-python",
   "name": "python",
   "nbconvert_exporter": "python",
   "pygments_lexer": "ipython2",
   "version": "2.7.6"
  }
 },
 "nbformat": 4,
 "nbformat_minor": 0
}
